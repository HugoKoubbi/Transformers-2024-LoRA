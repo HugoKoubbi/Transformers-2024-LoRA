{
  "cells": [
    {
      "cell_type": "code",
      "execution_count": 7,
      "metadata": {
        "colab": {
          "base_uri": "https://localhost:8080/"
        },
        "id": "YEyKG9pDLFP-",
        "outputId": "14189947-df75-4b19-968b-bf6a965dfe0e"
      },
      "outputs": [
        {
          "output_type": "stream",
          "name": "stderr",
          "text": [
            "<ipython-input-7-c6fc1ab23207>:34: RuntimeWarning: overflow encountered in exp\n",
            "  attention = [[1/np.sum([np.exp(np.dot(np.matmul(np.matmul(A, sp.linalg.expm(V*t)), z[i][l]), np.matmul(np.matmul(A, sp.linalg.expm(V*t)), z[k][l]-z[j][l]))) for k in range(n)]) for j in range(n)] for i in range(n)]\n",
            "/usr/local/lib/python3.10/dist-packages/numpy/core/fromnumeric.py:86: RuntimeWarning: overflow encountered in reduce\n",
            "  return ufunc.reduce(obj, axis, dtype, out, **passkwargs)\n"
          ]
        }
      ],
      "source": [
        "from matplotlib import ticker\n",
        "import numpy as np\n",
        "import scipy as sp\n",
        "import imageio\n",
        "import matplotlib.pyplot as plt\n",
        "from matplotlib import rc\n",
        "from mpl_toolkits.mplot3d import Axes3D\n",
        "import os\n",
        "from scipy.interpolate import interp1d\n",
        "from scipy.spatial import ConvexHull\n",
        "from datetime import datetime\n",
        "from multiprocessing import Pool\n",
        "import matplotlib as mpl\n",
        "import matplotlib.pyplot as plt\n",
        "import numpy as np\n",
        "import seaborn as sns\n",
        "import scipy\n",
        "import pandas as pd\n",
        "import os\n",
        "import pickle, lzma\n",
        "from matplotlib import cm\n",
        "from matplotlib.ticker import FormatStrFormatter\n",
        "import numpy as np\n",
        "import matplotlib.pyplot as plt\n",
        "from sklearn.linear_model import LinearRegression\n",
        "def get_dynamics(z_curr, attention, V, i):\n",
        "    \"\"\"\n",
        "    - Returns: the dynamics z'(t) = (z_1'(t), ... , z_n'(t)) at some time-step t.\n",
        "    \"\"\"\n",
        "\n",
        "    dlst = np.array([attention[i][j]*np.matmul(V, z_curr[j]-z_curr[i]) for j in range(n)])\n",
        "    return np.sum(dlst, axis=0)\n",
        "\n",
        "def transformer(T, dt, n, d, A, V, x0):\n",
        "    \"\"\"\n",
        "    - Returns: the evolution of z = (z_1, ..., z_n) over time.\n",
        "    \"\"\"\n",
        "\n",
        "    num_steps = int(T/dt)+1\n",
        "    z = np.zeros(shape=(n, num_steps, d))\n",
        "    z[:, 0, :] = x0\n",
        "    integration_time = np.linspace(0, T, num_steps)\n",
        "\n",
        "    for l, t in enumerate(integration_time):\n",
        "        if l < num_steps - 1:\n",
        "            # Attention matrix\n",
        "            attention = [[1/np.sum([np.exp(np.dot(np.matmul(np.matmul(A, sp.linalg.expm(V*t)), z[i][l]), np.matmul(np.matmul(A, sp.linalg.expm(V*t)), z[k][l]-z[j][l]))) for k in range(n)]) for j in range(n)] for i in range(n)]\n",
        "\n",
        "            z_next = np.zeros((n, d))\n",
        "            for i in range(n):\n",
        "                k1 = dt * get_dynamics(z[:, l, :], attention, V, i)\n",
        "                k2 = dt * get_dynamics(z[:, l, :] + k1 / 2, attention, V, i)\n",
        "                k3 = dt * get_dynamics(z[:, l, :] + k2 / 2, attention, V, i)\n",
        "                k4 = dt * get_dynamics(z[:, l, :] + k3, attention, V, i)\n",
        "\n",
        "                z_next[i] = z[i][l] + (k1 + 2*k2 + 2*k3 + k4) / 6\n",
        "\n",
        "            z[:, l+1, :] = z_next\n",
        "    return z\n",
        "\n",
        "def calculate_distance_from_viewing_direction(point):\n",
        "    viewing_direction = np.array([1, 0, 0])\n",
        "    return np.linalg.norm(point - viewing_direction)\n",
        "\n",
        "####### Distance to the clusters\n",
        "def distance_to_clusters(clusters,z,t):\n",
        "    d=0\n",
        "    for i in range(n):\n",
        "        d_i=100\n",
        "        for x in clusters:\n",
        "            d_i=min(d_i,np.linalg.norm(z[i, t, :]-x))\n",
        "        d=max(d,d_i)\n",
        "    return(d)\n",
        "####### Time bifurcation\n",
        "def time_bifurcation(clusters,z,T,dt,delta):\n",
        "    num_steps = int(T/dt)+1\n",
        "    integration_time = np.linspace(0, T, num_steps)\n",
        "    x=0\n",
        "    x2=0\n",
        "    for t in integration_time:\n",
        "        if distance_to_clusters(clusters,z,int(t/dt))<delta and x==0:\n",
        "            x=t\n",
        "        if distance_to_clusters(clusters,z,int(t/dt))>delta and x!=0:\n",
        "            x2=t\n",
        "            break\n",
        "    return(x,x2)\n",
        "\n",
        "L_clus=[]\n",
        "L_phase=[]\n",
        "Time = 20\n",
        "dt = 0.1\n",
        "d = 2\n",
        "n=20\n",
        "num_steps = int(Time/dt)+1\n",
        "x0 = np.random.uniform(low=-1, high=1, size=(n, d))\n",
        "integration_time = np.linspace(0, Time, num_steps)\n",
        "movie = False\n",
        "conv = False\n",
        "show_polytope = False\n",
        "V=np.eye(d)\n",
        "A = np.eye(d)\n",
        "z=transformer(Time, dt, n, d, A, V, x0)\n",
        "delta=0.1\n",
        "clusters=[ z[i, -1, :] for i in range(n)]\n",
        "Time = 400\n",
        "def T(epsilon):\n",
        "  v=np.array([1,0,0,1-epsilon])\n",
        "  V = v.reshape(2,2)\n",
        "  z=transformer(Time, dt, n, d, A, V, x0)\n",
        "  return(time_bifurcation(clusters,z,Time,dt,delta)[0],time_bifurcation(clusters,z,Time,dt,delta)[1])\n",
        "L_epsilon=[]\n",
        "L_clus=[]\n",
        "L_phase=[]\n",
        "with Pool(5) as p:\n",
        "  L2=p.map(T,L_epsilon)\n",
        "  for i in range (len(L2)):\n",
        "    L_clus.append(L2[i][0])\n",
        "    L_phase.append(L2[i][1])"
      ]
    },
    {
      "cell_type": "code",
      "execution_count": 9,
      "metadata": {
        "colab": {
          "base_uri": "https://localhost:8080/"
        },
        "id": "bE5lQ_lAq-Ha",
        "outputId": "fa108457-47ee-4809-f143-d2dfaf0594fe"
      },
      "outputs": [
        {
          "output_type": "stream",
          "name": "stdout",
          "text": [
            "Requirement already satisfied: seaborn in /usr/local/lib/python3.10/dist-packages (0.13.1)\n",
            "Requirement already satisfied: numpy!=1.24.0,>=1.20 in /usr/local/lib/python3.10/dist-packages (from seaborn) (1.23.5)\n",
            "Requirement already satisfied: pandas>=1.2 in /usr/local/lib/python3.10/dist-packages (from seaborn) (1.5.3)\n",
            "Requirement already satisfied: matplotlib!=3.6.1,>=3.4 in /usr/local/lib/python3.10/dist-packages (from seaborn) (3.7.1)\n",
            "Requirement already satisfied: contourpy>=1.0.1 in /usr/local/lib/python3.10/dist-packages (from matplotlib!=3.6.1,>=3.4->seaborn) (1.2.0)\n",
            "Requirement already satisfied: cycler>=0.10 in /usr/local/lib/python3.10/dist-packages (from matplotlib!=3.6.1,>=3.4->seaborn) (0.12.1)\n",
            "Requirement already satisfied: fonttools>=4.22.0 in /usr/local/lib/python3.10/dist-packages (from matplotlib!=3.6.1,>=3.4->seaborn) (4.47.2)\n",
            "Requirement already satisfied: kiwisolver>=1.0.1 in /usr/local/lib/python3.10/dist-packages (from matplotlib!=3.6.1,>=3.4->seaborn) (1.4.5)\n",
            "Requirement already satisfied: packaging>=20.0 in /usr/local/lib/python3.10/dist-packages (from matplotlib!=3.6.1,>=3.4->seaborn) (23.2)\n",
            "Requirement already satisfied: pillow>=6.2.0 in /usr/local/lib/python3.10/dist-packages (from matplotlib!=3.6.1,>=3.4->seaborn) (9.4.0)\n",
            "Requirement already satisfied: pyparsing>=2.3.1 in /usr/local/lib/python3.10/dist-packages (from matplotlib!=3.6.1,>=3.4->seaborn) (3.1.1)\n",
            "Requirement already satisfied: python-dateutil>=2.7 in /usr/local/lib/python3.10/dist-packages (from matplotlib!=3.6.1,>=3.4->seaborn) (2.8.2)\n",
            "Requirement already satisfied: pytz>=2020.1 in /usr/local/lib/python3.10/dist-packages (from pandas>=1.2->seaborn) (2023.3.post1)\n",
            "Requirement already satisfied: six>=1.5 in /usr/local/lib/python3.10/dist-packages (from python-dateutil>=2.7->matplotlib!=3.6.1,>=3.4->seaborn) (1.16.0)\n"
          ]
        }
      ],
      "source": [
        "pip install seaborn"
      ]
    },
    {
      "cell_type": "code",
      "execution_count": 10,
      "metadata": {
        "id": "vB21yGHqq_Wm"
      },
      "outputs": [],
      "source": [
        "import seaborn as sns"
      ]
    },
    {
      "cell_type": "code",
      "execution_count": null,
      "metadata": {
        "id": "aTtNuf5tJyEv"
      },
      "outputs": [],
      "source": [
        "###Data\n",
        "eps=r\"$\\epsilon$\"\n",
        "epsilon=np.array([0.001,0.005,0.010,0.015,0.025,0.030,0.035,0.040,0.045,0.05,0.055,0.060,0.065,0.070,0.075,0.080])\n",
        "y=500*np.ones_like(len(epsilon))\n",
        "\n",
        "###Figure\n",
        "plt.style.use('seaborn-whitegrid')\n",
        "fig = plt.figure()\n",
        "\n",
        "plt.plot(epsilon,L_clus,\"--\", label='Time cluster',color='black',linewidth=1.4)\n",
        "plt.plot(epsilon,L_phase,\"--\",label='Time bifurcation',color='black',linewidth=1.4)\n",
        "\n",
        "plt.xscale('log')\n",
        "plt.xlabel(eps,labelpad=5,figsize='14')\n",
        "plt.yscale('log')\n",
        "plt.ylabel('T',labelpad=6,figsize='14')\n",
        "plt.fill_between(epsilon,y,facecolor='green',alpha=0.6)\n",
        "plt.fill_between(epsilon,L_clus, facecolor='orange',alpha=0.9)\n",
        "plt.fill_between(epsilon,L_phase,facecolor='red',alpha=0.6)\n",
        "\n",
        "plt.ylim([0,500])\n",
        "plt.xlim([10e-3,0.08])\n",
        "filename = \"decai.png\"\n",
        "plt.savefig(filename)\n",
        "plt.show()"
      ]
    },
    {
      "cell_type": "code",
      "execution_count": 28,
      "metadata": {
        "colab": {
          "base_uri": "https://localhost:8080/",
          "height": 834
        },
        "id": "AZjRClv9hdN-",
        "outputId": "a2fc33c3-7081-4ea1-d5b6-f4d08daf2c64"
      },
      "outputs": [
        {
          "output_type": "stream",
          "name": "stderr",
          "text": [
            "<ipython-input-28-2dea4f3e5bb3>:21: UserWarning: Attempt to set non-positive ylim on a log-scaled axis will be ignored.\n",
            "  plt.ylim([0,400])\n"
          ]
        },
        {
          "output_type": "display_data",
          "data": {
            "text/plain": [
              "<Figure size 800x800 with 1 Axes>"
            ],
            "image/png": "[encoded data removed]"
          },
          "metadata": {}
        }
      ],
      "source": [
        "###Data\n",
        "eps=r\"$\\epsilon$\"\n",
        "L_clus=np.array([356.1, 337.0,317.1,299.5,283.8,269.4,256.6,244.9,234.2,179.4,134.4,107.4,89.4,76.60000000000001,66.9,59.400000000000006,53.400000000000006, 48.5,44.4,35.5,21.0,17.3,12.8,10.0,9.0,8.2,7.4,5.7])\n",
        "L_phase=np.array([4.7,4.7,4.7,4.7,4.7,4.7,4.7,4.7,4.7,4.7,4.7,4.6000000000000005,4.6000000000000005,4.6000000000000005,4.6000000000000005,4.6000000000000005,4.6000000000000005,4.5,4.5,4.4,4.4,4.4,4.2,4.2,4.1000000000000005,4.0,4.0,5.2])\n",
        "epsilon=np.array([0.001,0.0016,0.0017,0.0018,0.0019,0.002,0.0021,0.0022,0.0023,0.003,0.004,0.005,0.006,0.007,0.008,0.009,0.010,0.011,0.012,0.015,0.025,0.030,0.040,0.05,0.055,0.060,0.065,0.075])\n",
        "y=400*np.ones_like(len(epsilon))\n",
        "z=-3*np.log(epsilon)+340\n",
        "###Figure\n",
        "sns.set_theme(font_scale=1, style=\"ticks\")\n",
        "fig = plt.figure(figsize=[4,4],dpi=200)\n",
        "plt.plot(epsilon,L_clus,\"--\", label='Time cluster',color='black',linewidth=1.4)\n",
        "plt.plot(epsilon,L_phase,\"--\",label='Time bifurcation',color='black',linewidth=1.4)\n",
        "plt.xscale('log')\n",
        "plt.xlabel(eps,labelpad=5)\n",
        "plt.yscale('log')\n",
        "plt.ylabel('T',labelpad=6)\n",
        "plt.fill_between(epsilon,y,facecolor='green',alpha=0.6)\n",
        "plt.fill_between(epsilon,L_clus, facecolor='orange',alpha=0.9)\n",
        "plt.fill_between(epsilon,L_phase,facecolor='red',alpha=0.6)\n",
        "\n",
        "plt.ylim([0,400])\n",
        "plt.xlim([0.001,0.07])\n",
        "#ax.axis('tight')\n",
        "#plt.tight_layout()\n",
        "filename = \"decai.png\"\n",
        "plt.savefig(filename)\n",
        "plt.show()"
      ]
    },
    {
      "cell_type": "code",
      "source": [],
      "metadata": {
        "id": "8X-gNApy5tjM"
      },
      "execution_count": null,
      "outputs": []
    }
  ],
  "metadata": {
    "colab": {
      "provenance": []
    },
    "kernelspec": {
      "display_name": "Python 3",
      "name": "python3"
    },
    "language_info": {
      "name": "python"
    }
  },
  "nbformat": 4,
  "nbformat_minor": 0
}
